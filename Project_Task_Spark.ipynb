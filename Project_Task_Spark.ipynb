{
  "nbformat": 4,
  "nbformat_minor": 0,
  "metadata": {
    "colab": {
      "provenance": [],
      "mount_file_id": "1UT76lZyRlviYPIYdVbRk8cvy4lsk3m_M",
      "authorship_tag": "ABX9TyNMAMfniB2pDxIILeltGjwA",
      "include_colab_link": true
    },
    "kernelspec": {
      "name": "python3",
      "display_name": "Python 3"
    },
    "language_info": {
      "name": "python"
    }
  },
  "cells": [
    {
      "cell_type": "markdown",
      "metadata": {
        "id": "view-in-github",
        "colab_type": "text"
      },
      "source": [
        "<a href=\"https://colab.research.google.com/github/AnnaPylypenko/Project_Task_Spark/blob/main/Project_Task_Spark.ipynb\" target=\"_parent\"><img src=\"https://colab.research.google.com/assets/colab-badge.svg\" alt=\"Open In Colab\"/></a>"
      ]
    },
    {
      "cell_type": "code",
      "execution_count": null,
      "metadata": {
        "colab": {
          "base_uri": "https://localhost:8080/"
        },
        "id": "ghIceZrVL4sk",
        "outputId": "112cc9e9-c44b-4624-a260-f88c8ab0a054"
      },
      "outputs": [
        {
          "output_type": "stream",
          "name": "stdout",
          "text": [
            "Looking in indexes: https://pypi.org/simple, https://us-python.pkg.dev/colab-wheels/public/simple/\n",
            "Collecting pyspark\n",
            "  Downloading pyspark-3.4.0.tar.gz (310.8 MB)\n",
            "\u001b[2K     \u001b[90m━━━━━━━━━━━━━━━━━━━━━━━━━━━━━━━━━━━━━━━\u001b[0m \u001b[32m310.8/310.8 MB\u001b[0m \u001b[31m3.9 MB/s\u001b[0m eta \u001b[36m0:00:00\u001b[0m\n",
            "\u001b[?25h  Preparing metadata (setup.py) ... \u001b[?25l\u001b[?25hdone\n",
            "Requirement already satisfied: py4j==0.10.9.7 in /usr/local/lib/python3.10/dist-packages (from pyspark) (0.10.9.7)\n",
            "Building wheels for collected packages: pyspark\n",
            "  Building wheel for pyspark (setup.py) ... \u001b[?25l\u001b[?25hdone\n",
            "  Created wheel for pyspark: filename=pyspark-3.4.0-py2.py3-none-any.whl size=311317145 sha256=5002f0cbe131e9ce9e3a9de2eff4b5c41a0fe4f71aeac25207805eb833e1088e\n",
            "  Stored in directory: /root/.cache/pip/wheels/7b/1b/4b/3363a1d04368e7ff0d408e57ff57966fcdf00583774e761327\n",
            "Successfully built pyspark\n",
            "Installing collected packages: pyspark\n",
            "Successfully installed pyspark-3.4.0\n"
          ]
        }
      ],
      "source": [
        "!pip install pyspark"
      ]
    },
    {
      "cell_type": "code",
      "source": [
        "import os\n",
        "os.environ[\"PYSPARK_PYTHON\"] = \"python3\"\n",
        "os.environ[\"JAVA_HOME\"] = \"/usr/lib/jvm/java-11-openjdk-amd64\""
      ],
      "metadata": {
        "id": "TNLUHIaRMHKr"
      },
      "execution_count": null,
      "outputs": []
    },
    {
      "cell_type": "code",
      "source": [
        "from pyspark.sql.types import StructType, StructField, StringType, IntegerType\n",
        "from os import path"
      ],
      "metadata": {
        "id": "qTMlvd2lMLgK"
      },
      "execution_count": null,
      "outputs": []
    },
    {
      "cell_type": "code",
      "source": [
        "name_bas_PATH = path.join(\"imdb_data\", \"/content/drive/MyDrive/Colab Notebooks/imdb_data/name.basics.tsv.gz\")\n",
        "tit_akas_PATH = path.join(\"imdb_data\", \"/content/drive/MyDrive/Colab Notebooks/imdb_data/title.akas.tsv.gz\")\n",
        "tit_bas_PATH = path.join(\"imdb_data\", \"/content/drive/MyDrive/Colab Notebooks/imdb_data/title.basics.tsv.gz\")\n",
        "tit_crew_PATH = path.join(\"imdb_data\", \"/content/drive/MyDrive/Colab Notebooks/imdb_data/title.crew.tsv.gz\")\n",
        "tit_epis_PATH = path.join(\"imdb_data\", \"/content/drive/MyDrive/Colab Notebooks/imdb_data/title.episode.tsv.gz\")\n",
        "tit_prin_PATH = path.join(\"imdb_data\", \"/content/drive/MyDrive/Colab Notebooks/imdb_data/title.principals.tsv.gz\")\n",
        "tit_rat_PATH = path.join(\"imdb_data\", \"/content/drive/MyDrive/Colab Notebooks/imdb_data/title.ratings.tsv.gz\")\n",
        "\n",
        "name_bas_SCHEMA = StructType([\n",
        "    StructField(\"nconst\", StringType(), True),\n",
        "    StructField(\"primaryName\", StringType(), True),\n",
        "    StructField(\"birthYear\", StringType(), True),\n",
        "    StructField(\"deathYear\", StringType(), True),\n",
        "    StructField(\"primaryProfession\", StringType(), True),\n",
        "    StructField(\"knownForTitles\", StringType(), True)\n",
        "])\n",
        "\n",
        "tit_akas_SCHEMA = StructType([\n",
        "    StructField(\"titleId\", StringType(), True),\n",
        "    StructField(\"ordering\", IntegerType(), True),\n",
        "    StructField(\"title\", StringType(), True),\n",
        "    StructField(\"region\", StringType(), True),\n",
        "    StructField(\"language\", StringType(), True),\n",
        "    StructField(\"types\", StringType(), True),\n",
        "    StructField(\"attributes\", StringType(), True),\n",
        "    StructField(\"isOriginalTitle\", IntegerType(), True)\n",
        "])\n",
        "\n",
        "tit_bas_SCHEMA = StructType([\n",
        "    StructField(\"tconst\", StringType(), True),\n",
        "    StructField(\"titleType\", StringType(), True),\n",
        "    StructField(\"primaryTitle\", StringType(), True),\n",
        "    StructField(\"originalTitle\", StringType(), True),\n",
        "    StructField(\"isAdult\", IntegerType(), True),\n",
        "    StructField(\"startYear\", StringType(), True),\n",
        "    StructField(\"endYear\", StringType(), True),\n",
        "    StructField(\"runtimeMinutes\", StringType(), True),\n",
        "    StructField(\"genres\", StringType(), True)\n",
        "])\n",
        "\n",
        "tit_crew_SCHEMA = StructType([\n",
        "    StructField(\"tconst\", StringType(), True),\n",
        "    StructField(\"directors\", StringType(), True),\n",
        "    StructField(\"writers\", StringType(), True)\n",
        "])\n",
        "\n",
        "tit_epis_SCHEMA = StructType([\n",
        "    StructField(\"tconst\", StringType(), True),\n",
        "    StructField(\"parentTconst\", StringType(), True),\n",
        "    StructField(\"seasonNumber\", StringType(), True),\n",
        "    StructField(\"episodeNumber\", StringType(), True)\n",
        "])\n",
        "\n",
        "tit_prin_SCHEMA = StructType([\n",
        "    StructField(\"tconst\", StringType(), True),\n",
        "    StructField(\"ordering\", IntegerType(), True),\n",
        "    StructField(\"nconst\", StringType(), True),\n",
        "    StructField(\"category\", StringType(), True),\n",
        "    StructField(\"job\", StringType(), True),\n",
        "    StructField(\"characters\", StringType(), True)\n",
        "])\n",
        "\n",
        "tit_rat_SCHEMA = StructType([\n",
        "    StructField(\"tconst\", StringType(), True),\n",
        "    StructField(\"averageRating\", StringType(), True),\n",
        "    StructField(\"numVotes\", IntegerType(), True)\n",
        "])"
      ],
      "metadata": {
        "id": "IrAcmhLzMx7e"
      },
      "execution_count": null,
      "outputs": []
    },
    {
      "cell_type": "code",
      "source": [
        "def d_read(session, file_path, schema, sep=\"\\t\", header=True):\n",
        "    df = session.read.csv(file_path, sep=sep, header=header, schema=schema)\n",
        "    return df\n",
        "\n",
        "\n",
        "def d_write(df, directory_to_write):\n",
        "    df.coalesce(1).write.mode(\"overwrite\").csv(directory_to_write, header=True)"
      ],
      "metadata": {
        "id": "S15-xDEXM2Fi"
      },
      "execution_count": null,
      "outputs": []
    },
    {
      "cell_type": "code",
      "source": [
        "from pyspark.sql import SparkSession\n",
        "session = SparkSession\\\n",
        "        .builder\\\n",
        "        .appName(\"IMDB\")\\\n",
        "        .getOrCreate()\n"
      ],
      "metadata": {
        "id": "Vev2POApNGzm"
      },
      "execution_count": null,
      "outputs": []
    },
    {
      "cell_type": "code",
      "source": [
        "# 1\n",
        "title_akas_df = d_read(session, tit_akas_PATH, tit_akas_SCHEMA)\n",
        "title_basics_df = d_read(session, tit_bas_PATH, tit_bas_SCHEMA)\n",
        "\n",
        "ukr_df = title_akas_df.filter(title_akas_df.region == \"UA\")\n",
        "df = ukr_df.join(title_basics_df, ukr_df.titleId == title_basics_df.tconst)\n",
        "df_task_1 = df.select(\"primaryTitle\")\n",
        "\n",
        "d_write(df_task_1, path.join(\"results\", \"task_1\"))\n",
        "print(f\"Task 1: Get all titles of series/movies etc. that are available in Ukrainian\")\n",
        "df_task_1.show(truncate=False)"
      ],
      "metadata": {
        "colab": {
          "base_uri": "https://localhost:8080/"
        },
        "id": "pVulDVtSNZub",
        "outputId": "97f90cd1-e662-4f4d-91a9-102f7c30d17a"
      },
      "execution_count": null,
      "outputs": [
        {
          "output_type": "stream",
          "name": "stdout",
          "text": [
            "Task 1: Get all titles of series/movies etc. that are available in Ukrainian\n",
            "+----------------------+\n",
            "|primaryTitle          |\n",
            "+----------------------+\n",
            "|His Favorite Pastime  |\n",
            "|Underworld            |\n",
            "|Suburban Districts    |\n",
            "|Suburban Districts    |\n",
            "|The Old Mill          |\n",
            "|The Great Dictator    |\n",
            "|His Girl Friday       |\n",
            "|Dead Reckoning        |\n",
            "|A Christmas Carol     |\n",
            "|Munro                 |\n",
            "|Lord of the Flies     |\n",
            "|Old Surehand          |\n",
            "|Old Surehand          |\n",
            "|Namu, the Killer Whale|\n",
            "|Lupo!                 |\n",
            "|Diamonds Are Forever  |\n",
            "|Blutsbrüder           |\n",
            "|Escape from Hell      |\n",
            "|The Cabbage Soup      |\n",
            "|Still Smokin          |\n",
            "+----------------------+\n",
            "only showing top 20 rows\n",
            "\n"
          ]
        }
      ]
    },
    {
      "cell_type": "code",
      "source": [
        "# 2\n",
        "from pyspark.sql.functions import col\n",
        "\n",
        "name_basics_df = d_read(session, name_bas_PATH, name_bas_SCHEMA)\n",
        "born_19th_df = name_basics_df.filter((col(\"birthYear\") >= 1800) & (col(\"birthYear\") < 1900))\n",
        "names_19th_df_task_2 = born_19th_df.select(\"primaryName\")\n",
        "\n",
        "d_write(names_19th_df_task_2, path.join(\"results\", \"task_2\"))\n",
        "print(f\"Task 2: Get the list of people’s names, who were born in the 19th century.\")\n",
        "names_19th_df_task_2.show(truncate=False)"
      ],
      "metadata": {
        "colab": {
          "base_uri": "https://localhost:8080/"
        },
        "id": "mqSsyOBUQY67",
        "outputId": "5c0ac35f-62fb-463e-9488-2bb48c47a69b"
      },
      "execution_count": null,
      "outputs": [
        {
          "output_type": "stream",
          "name": "stdout",
          "text": [
            "Task 2: Get the list of people’s names, who were born in the 19th century.\n",
            "+------------------+\n",
            "|primaryName       |\n",
            "+------------------+\n",
            "|Fred Astaire      |\n",
            "|Humphrey Bogart   |\n",
            "|James Cagney      |\n",
            "|Alfred Hitchcock  |\n",
            "|Buster Keaton     |\n",
            "|Groucho Marx      |\n",
            "|Edward G. Robinson|\n",
            "|Randolph Scott    |\n",
            "|Max Steiner       |\n",
            "|Victor Young      |\n",
            "|Charles Chaplin   |\n",
            "|Robert Ellis      |\n",
            "|Robert Ellis      |\n",
            "|Annie Rosar       |\n",
            "|John Ford         |\n",
            "|D.W. Griffith     |\n",
            "|Boris Karloff     |\n",
            "|Fritz Lang        |\n",
            "|Bela Lugosi       |\n",
            "|Edgar Allan Poe   |\n",
            "+------------------+\n",
            "only showing top 20 rows\n",
            "\n"
          ]
        }
      ]
    },
    {
      "cell_type": "code",
      "source": [
        "# 3\n",
        "title_basics_df = d_read(session, tit_bas_PATH, tit_bas_SCHEMA)\n",
        "long_movies_df = title_basics_df.filter(col(\"titleType\") == \"movie\").filter(col(\"runtimeMinutes\") > 120)\n",
        "res_df_task_3 = long_movies_df.select(\"primaryTitle\")\n",
        "\n",
        "d_write(res_df_task_3, path.join(\"results\", \"task_3\"))\n",
        "print(f\"Task 3: Get titles of all movies that last more than 2 hours\")\n",
        "res_df_task_3.show(truncate=False)"
      ],
      "metadata": {
        "colab": {
          "base_uri": "https://localhost:8080/"
        },
        "id": "-u8FWDOGTOvP",
        "outputId": "0e96a745-f14a-4554-aeec-94fe87f6a247"
      },
      "execution_count": null,
      "outputs": [
        {
          "output_type": "stream",
          "name": "stdout",
          "text": [
            "Task 3: Get titles of all movies that last more than 2 hours\n",
            "+---------------------------------------+\n",
            "|primaryTitle                           |\n",
            "+---------------------------------------+\n",
            "|What Happened to Mary                  |\n",
            "|The Adventures of Kathlyn              |\n",
            "|Atlantis                               |\n",
            "|Germinal; or, The Toll of Labor        |\n",
            "|Les Misérables, Part 2: Fantine        |\n",
            "|The Active Life of Dolly of the Dailies|\n",
            "|The Beloved Adventurer                 |\n",
            "|Cabiria                                |\n",
            "|L'enfant de Paris                      |\n",
            "|The Exploits of Elaine                 |\n",
            "|The Hazards of Helen                   |\n",
            "|Lucille Love: The Girl of Mystery      |\n",
            "|The Master Key                         |\n",
            "|The Perils of Pauline                  |\n",
            "|The Port of Missing Men                |\n",
            "|El signo de la tribu                   |\n",
            "|The Trey o' Hearts                     |\n",
            "|The Birth of a Nation                  |\n",
            "|The Black Box                          |\n",
            "|The Broken Coin                        |\n",
            "+---------------------------------------+\n",
            "only showing top 20 rows\n",
            "\n"
          ]
        }
      ]
    },
    {
      "cell_type": "code",
      "source": [
        "# 4\n",
        "name_basics_df = d_read(session, name_bas_PATH, name_bas_SCHEMA)\n",
        "title_basics_df = d_read(session, tit_bas_PATH, tit_bas_SCHEMA)\n",
        "title_principals_df = d_read(session, tit_prin_PATH, tit_prin_SCHEMA)\n",
        "\n",
        "joined_df = name_basics_df\\\n",
        "    .join(title_principals_df, name_basics_df[\"nconst\"] == title_principals_df[\"nconst\"])\\\n",
        "    .join(title_basics_df, title_basics_df[\"tconst\"] == title_principals_df[\"tconst\"])\n",
        "\n",
        "result_df = joined_df.select(\"primaryName\", \"primaryTitle\", \"category\", \"characters\")\n",
        "result_df_task_4 = result_df.filter(col(\"category\").isin([\"actor\", \"actress\"]))\n",
        "\n",
        "d_write(result_df_task_4, path.join(\"results\", \"task_4\"))\n",
        "print(f\"Task 4: Get names of people, corresponding movies/series and characters they played in those films\")\n",
        "result_df_task_4.show(truncate=False)"
      ],
      "metadata": {
        "colab": {
          "base_uri": "https://localhost:8080/"
        },
        "id": "5x_4xWuRWGE1",
        "outputId": "b827d94f-cb29-4739-e28f-b0c9619cd71a"
      },
      "execution_count": null,
      "outputs": [
        {
          "output_type": "stream",
          "name": "stdout",
          "text": [
            "Task 4: Get names of people, corresponding movies/series and characters they played in those films\n",
            "+-----------------------+-------------------------------+--------+-------------------------+\n",
            "|primaryName            |primaryTitle                   |category|characters               |\n",
            "+-----------------------+-------------------------------+--------+-------------------------+\n",
            "|Josef Sváb-Malostranský|Výstavní párkar a lepic plakátù|actor   |[\"Sausage Vendor\"]       |\n",
            "|Ferdinand Gýra         |Výstavní párkar a lepic plakátù|actor   |[\"Sticker\"]              |\n",
            "|Georges Méliès         |Summoning the Spirits          |actor   |[\"L'illusioniste\"]       |\n",
            "|Valentine Brouat       |L'Habanera                     |actress |\\N                       |\n",
            "|Georges Méliès         |The Enchanted Box              |actor   |\\N                       |\n",
            "|Laura Bayley           |Mary Jane's Mishap             |actress |[\"Mary Jane\"]            |\n",
            "|Robert Storm Petersen  |En foræring til min Kone       |actor   |[\"Petersen\"]             |\n",
            "|Gertie Potter          |That Fatal Sneeze              |actress |[\"Nephew\"]               |\n",
            "|Thurston Harris        |That Fatal Sneeze              |actor   |[\"Uncle\"]                |\n",
            "|Anthony O'Sullivan     |A Famous Escape                |actor   |[\"Prisoner\"]             |\n",
            "|D.W. Griffith          |A Famous Escape                |actor   |[\"Prisoner\"]             |\n",
            "|Harry Solter           |A Famous Escape                |actor   |[\"Prison Guard\"]         |\n",
            "|Robert Harron          |Mixed Babies                   |actor   |[\"Boy in Front of Store\"]|\n",
            "|Edward Dillon          |Mixed Babies                   |actor   |[\"Father\"]               |\n",
            "|George Gebhardt        |The Red Man and the Child      |actor   |[\"Villain\"]              |\n",
            "|Linda Arvidson         |The Red Man and the Child      |actress |[\"Woman\"]                |\n",
            "|John Tansey            |The Red Man and the Child      |actor   |[\"The Child\"]            |\n",
            "|Charles Inslee         |The Red Man and the Child      |actor   |[\"The Sioux\"]            |\n",
            "|Harry Solter           |The Red Man and the Child      |actor   |[\"Villain\"]              |\n",
            "|Henry B. Walthall      |A Fair Exchange                |actor   |[\"The Peasant\"]          |\n",
            "+-----------------------+-------------------------------+--------+-------------------------+\n",
            "only showing top 20 rows\n",
            "\n"
          ]
        }
      ]
    },
    {
      "cell_type": "code",
      "source": [
        "# 5\n",
        "from pyspark.sql.functions import count, col, desc\n",
        "\n",
        "title_akas_df = d_read(session, tit_akas_PATH, tit_akas_SCHEMA)\n",
        "title_basics_df = d_read(session, tit_bas_PATH, tit_bas_SCHEMA)\n",
        "\n",
        "adult_df = title_basics_df.filter(col(\"isAdult\") == True)\n",
        "joined_df = title_akas_df.join(adult_df, title_akas_df[\"titleId\"] == adult_df[\"tconst\"])\n",
        "res_df_task_5 = joined_df\\\n",
        "    .groupBy(\"region\")\\\n",
        "    .agg(count(\"*\").alias(\"count\"))\\\n",
        "    .orderBy(desc(\"count\"))\n",
        "\n",
        "d_write(res_df_task_5, path.join(\"results\", \"task_5\"))\n",
        "print(f\"Task 5: Get information about how many adult movies/series etc. there are per region. Get the top 100 of them from the region with the biggest count to the region with the smallest one.\")\n",
        "res_df_task_5.show(truncate=False)"
      ],
      "metadata": {
        "colab": {
          "base_uri": "https://localhost:8080/"
        },
        "id": "fq0cJJozXn-J",
        "outputId": "10036dc5-6295-4b25-98a7-8bc88034f08a"
      },
      "execution_count": null,
      "outputs": [
        {
          "output_type": "stream",
          "name": "stdout",
          "text": [
            "Task 5: Get information about how many adult movies/series etc. there are per region. Get the top 100 of them from the region with the biggest count to the region with the smallest one.\n",
            "+------+------+\n",
            "|region|count |\n",
            "+------+------+\n",
            "|\\N    |101338|\n",
            "|US    |99946 |\n",
            "|JP    |21775 |\n",
            "|DE    |13784 |\n",
            "|FR    |8340  |\n",
            "|ES    |6519  |\n",
            "|IT    |6184  |\n",
            "|CA    |5609  |\n",
            "|GB    |5386  |\n",
            "|VE    |3685  |\n",
            "|PT    |3659  |\n",
            "|IN    |3337  |\n",
            "|XWW   |2927  |\n",
            "|NL    |2136  |\n",
            "|BR    |1971  |\n",
            "|CZ    |1651  |\n",
            "|SE    |1627  |\n",
            "|XWG   |1560  |\n",
            "|DK    |934   |\n",
            "|GR    |894   |\n",
            "+------+------+\n",
            "only showing top 20 rows\n",
            "\n"
          ]
        }
      ]
    },
    {
      "cell_type": "code",
      "source": [
        "# 6\n",
        "from pyspark.sql.functions import sum\n",
        "\n",
        "title_basics_df = d_read(session, tit_bas_PATH, tit_bas_SCHEMA)\n",
        "title_episode_df = d_read(session, tit_epis_PATH, tit_epis_SCHEMA)\n",
        "\n",
        "episode_df = title_episode_df.select(\"parentTconst\", \"episodeNumber\") \\\n",
        "    .withColumn(\"episodeNumber\", col(\"episodeNumber\").cast(IntegerType()))\n",
        "num_episodes_df = episode_df.groupBy(\"parentTconst\") \\\n",
        "    .agg(sum(\"episodeNumber\").alias(\"num_episodes\")) \\\n",
        "    .orderBy(col(\"num_episodes\").desc())\n",
        "tv_series_df = title_basics_df.filter(col(\"titleType\") == \"tvSeries\") \\\n",
        "    .select(\"tconst\", \"primaryTitle\")\n",
        "result_df = tv_series_df.join(num_episodes_df, tv_series_df[\"tconst\"] == num_episodes_df[\"parentTconst\"]) \\\n",
        "    .select(\"primaryTitle\", \"num_episodes\") \\\n",
        "    .orderBy(col(\"num_episodes\").desc())\n",
        "top_50_tv_task_6 = result_df.limit(50)\n",
        "\n",
        "d_write(top_50_tv_task_6, path.join(\"results\", \"task_6\"))\n",
        "print(f\"Task 6: Get information about how many episodes in each TV Series. Get the top 50 of them starting from the TV Series with the biggest quantity of episodes.\")\n",
        "top_50_tv_task_6.show(truncate=False)"
      ],
      "metadata": {
        "colab": {
          "base_uri": "https://localhost:8080/"
        },
        "id": "fVotPWzBa7kl",
        "outputId": "eddde75e-99ec-42fb-f6f3-6a5168927c27"
      },
      "execution_count": null,
      "outputs": [
        {
          "output_type": "stream",
          "name": "stdout",
          "text": [
            "Task 6: Get information about how many episodes in each TV Series. Get the top 50 of them starting from the TV Series with the biggest quantity of episodes.\n",
            "+--------------------------+------------+\n",
            "|primaryTitle              |num_episodes|\n",
            "+--------------------------+------------+\n",
            "|Days of Our Lives         |105573241   |\n",
            "|The Young and the Restless|81310916    |\n",
            "|General Hospital          |66535832    |\n",
            "|See the World by Train    |56972475    |\n",
            "|Coronation Street         |56830036    |\n",
            "|Large Test Series         |50005111    |\n",
            "|Eat Bulaga                |49559244    |\n",
            "|ASAP                      |46566121    |\n",
            "|Ohayou Tokushima          |45148753    |\n",
            "|All My Children           |43445981    |\n",
            "|Neighbours                |42315400    |\n",
            "|Emmerdale Farm            |42232403    |\n",
            "|The Bold and the Beautiful|41357016    |\n",
            "|Unser Sandmännchen        |40464321    |\n",
            "|As the World Turns        |39702561    |\n",
            "|Barátok közt              |39091436    |\n",
            "|Six O'Clock News          |34160162    |\n",
            "|It's Okay to Laugh!       |32445540    |\n",
            "|Search for Tomorrow       |32395105    |\n",
            "|Saksi                     |32368698    |\n",
            "+--------------------------+------------+\n",
            "only showing top 20 rows\n",
            "\n"
          ]
        }
      ]
    },
    {
      "cell_type": "code",
      "source": [
        "# 7\n",
        "from pyspark.sql.window import Window\n",
        "from pyspark.sql.functions import floor, desc, row_number, avg, round, dense_rank\n",
        "\n",
        "title_basics_df = d_read(session, tit_bas_PATH, tit_bas_SCHEMA)\n",
        "title_ratings_df = d_read(session, tit_rat_PATH, tit_rat_SCHEMA)\n",
        "\n",
        "title_basics_df = title_basics_df.filter(col(\"titleType\").isin([\"movie\", \"tvSeries\"]))\n",
        "title_basics_df = title_basics_df.withColumn(\"startYear\", title_basics_df[\"startYear\"].cast(\"int\"))\n",
        "title_basics_df = title_basics_df.withColumn(\"decade\", round((col(\"startYear\") / 10).cast(\"double\")) * 10)\n",
        "title_data = title_basics_df.join(title_ratings_df, \"tconst\")\n",
        "grouped_data = title_data.groupBy(\"decade\", \"primaryTitle\").agg(avg(\"averageRating\").alias(\"averageRating\"))\n",
        "window_spec = Window.partitionBy(\"decade\").orderBy(col(\"averageRating\").desc())\n",
        "ranked_data = grouped_data.withColumn(\"rank\", dense_rank().over(window_spec))\n",
        "row_number_spec = Window.partitionBy(\"decade\").orderBy(col(\"averageRating\").desc(), col(\"primaryTitle\"))\n",
        "ranked_data = ranked_data.withColumn(\"row_number\", row_number().over(row_number_spec))\n",
        "top_titles_task_7 = ranked_data.filter(col(\"row_number\") <= 10).orderBy(\"decade\", \"rank\")\n",
        "\n",
        "d_write(top_titles_task_7, path.join(\"results\", \"task_7\"))\n",
        "print(f\"Task 7: Get 10 titles of the most popular movies/series etc. by each decade\")\n",
        "top_titles_task_7.show(truncate=False)"
      ],
      "metadata": {
        "colab": {
          "base_uri": "https://localhost:8080/"
        },
        "id": "MKTqSi0Ca-ya",
        "outputId": "36bd250f-74ca-44d1-8775-c48b0402c782"
      },
      "execution_count": null,
      "outputs": [
        {
          "output_type": "stream",
          "name": "stdout",
          "text": [
            "Task 7: Get 10 titles of the most popular movies/series etc. by each decade\n",
            "+------+------------------------------------------------------------------------------+-------------+----+----------+\n",
            "|decade|primaryTitle                                                                  |averageRating|rank|row_number|\n",
            "+------+------------------------------------------------------------------------------+-------------+----+----------+\n",
            "|null  |Prem Prakaran                                                                 |9.7          |1   |1         |\n",
            "|null  |Ghosted                                                                       |9.6          |2   |2         |\n",
            "|null  |Hidden Agenda                                                                 |9.6          |2   |3         |\n",
            "|null  |Sesha Raati                                                                   |9.6          |2   |4         |\n",
            "|null  |Eldritch USA                                                                  |9.5          |3   |5         |\n",
            "|null  |Making Him Famous                                                             |9.5          |3   |6         |\n",
            "|null  |Enemy of England                                                              |9.4          |4   |7         |\n",
            "|null  |Return of the Eats                                                            |9.4          |4   |8         |\n",
            "|null  |Chai - a bond undefined                                                       |9.3          |5   |9         |\n",
            "|null  |The Great 14th: Tenzin Gyatso, the 14th Dalai Lama in His Own Words           |9.3          |5   |10        |\n",
            "|1890.0|Miss Jerry                                                                    |5.3          |1   |1         |\n",
            "|1900.0|Anna Held                                                                     |7.0          |1   |1         |\n",
            "|1900.0|The Passion Play                                                              |6.4          |2   |2         |\n",
            "|1900.0|The Republican National Convention                                            |5.8          |3   |3         |\n",
            "|1900.0|May Day Parade                                                                |5.7          |4   |4         |\n",
            "|1900.0|The Corbett-Fitzsimmons Fight                                                 |5.3          |5   |5         |\n",
            "|1900.0|Westinghouse Works                                                            |5.3          |5   |6         |\n",
            "|1900.0|Birmingham                                                                    |4.4          |6   |7         |\n",
            "|1900.0|Reproduction of the Corbett and Fitzsimmons Fight                             |4.4          |6   |8         |\n",
            "|1900.0|Jeffries and Ruhlin Sparring Contest at San Francisco, Cal., November 15, 1901|4.3          |7   |9         |\n",
            "+------+------------------------------------------------------------------------------+-------------+----+----------+\n",
            "only showing top 20 rows\n",
            "\n"
          ]
        }
      ]
    },
    {
      "cell_type": "code",
      "source": [
        "# 8\n",
        "title_basics_df = d_read(session, tit_bas_PATH, tit_bas_SCHEMA)\n",
        "title_ratings_df = d_read(session, tit_rat_PATH, tit_rat_SCHEMA)\n",
        "\n",
        "joined_df = title_basics_df.join(title_ratings_df, on=\"tconst\")\n",
        "filtered_df = joined_df.filter(joined_df.genres.isNotNull())\n",
        "grouped_df = filtered_df.groupBy(\"genres\", \"primaryTitle\").agg(avg(\"averageRating\").alias(\"averageRating\"))\n",
        "window_spec = Window.partitionBy(\"genres\").orderBy(desc(\"averageRating\"))\n",
        "ranked_df = grouped_df.withColumn(\"rank\", row_number().over(window_spec))\n",
        "top_10_df = ranked_df.filter(col(\"rank\") <= 10)\n",
        "top_10_df_task_8 = top_10_df.orderBy(\"genres\", \"rank\")\n",
        "\n",
        "d_write(top_10_df_task_8, path.join(\"results\", \"task_8\"))\n",
        "print(f\"Task 8: Get 10 titles of the most popular movies/series etc. by each genre\")\n",
        "top_10_df_task_8.show(truncate=False)"
      ],
      "metadata": {
        "colab": {
          "base_uri": "https://localhost:8080/"
        },
        "id": "C8dpPtR0fE9o",
        "outputId": "1bf7b6f1-e0b7-4fbc-fd75-556a70b79364"
      },
      "execution_count": 25,
      "outputs": [
        {
          "output_type": "stream",
          "name": "stdout",
          "text": [
            "Task 8: Get 10 titles of the most popular movies/series etc. by each genre\n",
            "+------------+---------------------------------------------+-------------+----+\n",
            "|genres      |primaryTitle                                 |averageRating|rank|\n",
            "+------------+---------------------------------------------+-------------+----+\n",
            "|Action      |Los Dos Ases Zacatecanos                     |10.0         |1   |\n",
            "|Action      |Psychology of Conflict: The Magnificent Seven|10.0         |2   |\n",
            "|Action      |El Heredero Del Odio                         |10.0         |3   |\n",
            "|Action      |The Levels of Resurrection                   |10.0         |4   |\n",
            "|Action      |Skills for Actors: Swordplay Skills          |10.0         |5   |\n",
            "|Action      |Clandestine                                  |10.0         |6   |\n",
            "|Action      |El señor de los cielos II                    |10.0         |7   |\n",
            "|Action      |Testamento En Blanco                         |10.0         |8   |\n",
            "|Action      |MIAO                                         |10.0         |9   |\n",
            "|Action      |Traición a Quemaropa                         |10.0         |10  |\n",
            "|Action,Adult|Tourist Trap                                 |8.3          |1   |\n",
            "|Action,Adult|Racer X                                      |8.0          |2   |\n",
            "|Action,Adult|Actiongirls.com Volume 3                     |7.9          |3   |\n",
            "|Action,Adult|Playboy: The Mansion                         |7.7          |4   |\n",
            "|Action,Adult|Actiongirls.com Volume 2                     |7.1          |5   |\n",
            "|Action,Adult|Weekend Lockup                               |6.9          |6   |\n",
            "|Action,Adult|The Female James Bond in Action              |6.8          |7   |\n",
            "|Action,Adult|Gangland Bangers                             |6.5          |8   |\n",
            "|Action,Adult|The Young and the Wrestling                  |6.4          |9   |\n",
            "|Action,Adult|Kore ga uwasa no biyaku-dzuke kyonyû sôsa-kan|6.4          |10  |\n",
            "+------------+---------------------------------------------+-------------+----+\n",
            "only showing top 20 rows\n",
            "\n"
          ]
        }
      ]
    },
    {
      "cell_type": "code",
      "source": [
        "session.stop()"
      ],
      "metadata": {
        "id": "6Vysr3QveW9y"
      },
      "execution_count": 26,
      "outputs": []
    },
    {
      "cell_type": "code",
      "source": [],
      "metadata": {
        "id": "YrU1CNmTCfQa"
      },
      "execution_count": null,
      "outputs": []
    }
  ]
}